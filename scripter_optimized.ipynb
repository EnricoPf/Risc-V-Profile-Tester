{
 "cells": [
  {
   "cell_type": "markdown",
   "metadata": {},
   "source": [
    "# RISC-V Instruction Analyzer\n",
    "\n",
    "This notebook analyzes RISC-V instructions from hex files and determines compatible profiles based on instruction extensions.\n",
    "It provides functionality for:\n",
    "- Converting hex instructions to binary\n",
    "- Decoding instructions and extracting opcodes\n",
    "- Matching bit patterns to identify instructions\n",
    "- Finding compatible RISC-V profiles\n",
    "\n",
    "## Code Organization:\n",
    "1. Core Utilities - Basic conversion and helper functions\n",
    "2. Instruction Analysis - Functions for parsing and analyzing instructions\n",
    "3. Profile Analysis - Functions for determining compatible profiles"
   ]
  },
  {
   "cell_type": "markdown",
   "metadata": {},
   "source": [
    "## 1. Setup and Imports"
   ]
  },
  {
   "cell_type": "code",
   "execution_count": 1,
   "metadata": {},
   "outputs": [],
   "source": [
    "# Required imports\n",
    "import json          # For reading opcode definitions\n",
    "import pandas as pd  # For data manipulation\n",
    "import numpy as np   # For array operations\n",
    "import re           # For pattern matching"
   ]
  },
  {
   "cell_type": "markdown",
   "metadata": {},
   "source": [
    "## 2. Core Utilities"
   ]
  },
  {
   "cell_type": "code",
   "execution_count": 4,
   "metadata": {},
   "outputs": [],
   "source": [
    "def hex_to_bin(hex_str: str) -> str:\n",
    "    \"\"\"Convert hexadecimal string to binary string with proper padding.\n",
    "    \n",
    "    Args:\n",
    "        hex_str (str): Hexadecimal string to convert\n",
    "        \n",
    "    Returns:\n",
    "        str: Binary representation padded to 32 bits\n",
    "    \"\"\"\n",
    "    # Remove whitespace and '0x' prefix\n",
    "    hex_str = hex_str.strip().replace('0x', '')\n",
    "    if not hex_str:\n",
    "        return '0' * 32\n",
    "    \n",
    "    # Convert to binary and remove '0b' prefix\n",
    "    binary = bin(int(hex_str, 16))[2:]\n",
    "    \n",
    "    # Pad to 32 bits for RISC-V instructions\n",
    "    padding = (32 - len(binary)) if len(binary) < 32 else 0\n",
    "    return '0' * padding + binary\n",
    "\n",
    "def parse_range(s: str) -> list:\n",
    "    \"\"\"Parse a range string in either 'X..Y=Z' or 'X=Z' format.\n",
    "    \n",
    "    Args:\n",
    "        s (str): Range string to parse\n",
    "        \n",
    "    Returns:\n",
    "        list: For 'X..Y=Z' format: [X, Y, Z] where:\n",
    "             - X: start position (int)\n",
    "             - Y: end position (int)\n",
    "             - Z: binary value (str)\n",
    "             For 'X=Z' format: [X, Z] where:\n",
    "             - X: bit position (int)\n",
    "             - Z: binary value (str)\n",
    "    \"\"\"\n",
    "    # Handle range format 'X..Y=Z'\n",
    "    if '..' in s:\n",
    "        match = re.match(r'(\\d+)\\.\\.(\\d+)=(-?0x[\\da-fA-F]+|-?\\d+)', s)\n",
    "        if match:\n",
    "            start_pos = int(match.group(1))\n",
    "            end_pos = int(match.group(2))\n",
    "            value = match.group(3)\n",
    "            # Convert value to binary\n",
    "            binary_value = hex_to_bin(value) if (value.startswith('0x') or value.startswith('-0x')) \\\n",
    "                          else bin(int(value))[2:]\n",
    "            return [start_pos, end_pos, binary_value]\n",
    "    \n",
    "    # Handle single bit format 'X=Z'\n",
    "    else:\n",
    "        match = re.match(r'(\\d+)=(-?0x[\\da-fA-F]+|-?\\d+)', s)\n",
    "        if match:\n",
    "            bit_pos = int(match.group(1))\n",
    "            value = match.group(2)\n",
    "            # Convert value to binary\n",
    "            binary_value = hex_to_bin(value) if (value.startswith('0x') or value.startswith('-0x')) \\\n",
    "                          else bin(int(value))[2:]\n",
    "            return [bit_pos, binary_value]\n",
    "    return None"
   ]
  },
  {
   "cell_type": "markdown",
   "metadata": {},
   "source": [
    "## 3. Data Loading and Preprocessing"
   ]
  },
  {
   "cell_type": "code",
   "execution_count": 5,
   "metadata": {},
   "outputs": [],
   "source": [
    "# Load opcode definitions\n",
    "json_file = './data/output_opcodes.json'\n",
    "df = pd.read_json(json_file)\n",
    "\n",
    "# Flatten bit_ranges array and sort by length for efficient matching\n",
    "df['bit_ranges'] = df['bit_ranges'].apply(lambda x: np.array(x).ravel())\n",
    "df_sorted = df.sort_values(by='bit_ranges', key=lambda x: x.apply(len), ascending=False)\n",
    "\n",
    "# Parse bit ranges into structured format\n",
    "df_sorted['bit_ranges'] = df_sorted['bit_ranges'].apply(lambda x: [parse_range(y) for y in x])"
   ]
  },
  {
   "cell_type": "markdown",
   "metadata": {},
   "source": [
    "## 4. Instruction Analysis"
   ]
  },
  {
   "cell_type": "code",
   "execution_count": 12,
   "metadata": {},
   "outputs": [],
   "source": [
    "def getInstructsFromHex(hex_content: list) -> list:\n",
    "    instructs = []\n",
    "    for line in hex_content:\n",
    "        line = line.strip()\n",
    "        line = hex_to_bin(line)[::-1]\n",
    "        for index, row in df_sorted.iterrows():\n",
    "            #print(f\"Instruction:{row['instruction']}\")\n",
    "            count = len(row['bit_ranges'])\n",
    "            #print(row)\n",
    "            #print(count)\n",
    "            for rg in row['bit_ranges']:\n",
    "                if len(rg) == 3:\n",
    "                    end = rg[0]\n",
    "                    start = rg[1]\n",
    "                    value = rg[2]\n",
    "                    inter = line[start:end+1]\n",
    "                    #print(f'start {start} end {end}: {value} - {inter}')\n",
    "                    if (start > len(line)) or (end > len(line)):\n",
    "                        continue\n",
    "                    if int(inter[::-1],2) != int(value,2):\n",
    "                        continue\n",
    "                    count = count-1\n",
    "                else:\n",
    "                    position = rg[0]\n",
    "                    value = rg[1]\n",
    "                    if (position >= len(line)):\n",
    "                        continue\n",
    "                    if line[position] != value:\n",
    "                        continue\n",
    "                    count = count-1\n",
    "                if count == 0:\n",
    "                    instructs.append(row)\n",
    "                    break\n",
    "            if count == 0:\n",
    "                break\n",
    "    return instructs"
   ]
  },
  {
   "cell_type": "markdown",
   "metadata": {},
   "source": [
    "## 5. Profile Analysis"
   ]
  },
  {
   "cell_type": "code",
   "execution_count": 26,
   "metadata": {},
   "outputs": [],
   "source": [
    "def fromExtensionsGetProfiles(extensions: list, profiles_df) -> list:\n",
    "    \"\"\"Find RISC-V profiles that support all given extensions.\n",
    "    \n",
    "    Args:\n",
    "        extensions (list): List of required RISC-V extensions\n",
    "        \n",
    "    Returns:\n",
    "        list: List of profile names that support all required extensions\n",
    "    \"\"\"\n",
    "        \n",
    "    # Check which profiles support all required extensions\n",
    "    profiles_with_all_extensions = profiles_df.loc[extensions].all(axis=0)\n",
    "    \n",
    "    # Return profiles that support all extensions\n",
    "    return profiles_with_all_extensions[profiles_with_all_extensions == True].index.to_list()"
   ]
  },
  {
   "cell_type": "markdown",
   "metadata": {},
   "source": [
    "## 6. Example Usage"
   ]
  },
  {
   "cell_type": "code",
   "execution_count": 24,
   "metadata": {},
   "outputs": [],
   "source": [
    "perfils = pd.read_csv('./data/csv/profile_mapping.csv',index_col='extension')\n",
    "perfils.loc['TOTAL'] = perfils.sum()\n",
    "#perfils = perfils.rename(index={'RV32E':'E','RV32I':'I'}) #,'RV64I':'I','RV64E':'E'\n",
    "# Combine RV64I and RV32I into I, RV64E and RV32E into E using logical OR\n",
    "perfils.loc['I'] = perfils.loc[['rv64_i', 'rv34_i']].any()\n",
    "perfils.loc['E'] = perfils.loc[['rv64_e', 'rv34_e']].any()\n",
    "# Drop the original rows\n",
    "perfils = perfils.drop(['rv64_i', 'rv34_i', 'rv64_e', 'rv34_e'])"
   ]
  },
  {
   "cell_type": "code",
   "execution_count": 28,
   "metadata": {},
   "outputs": [
    {
     "name": "stdout",
     "output_type": "stream",
     "text": [
      "Found instructions:\n",
      "[instruction                                                 addi\n",
      "bit_ranges     [[14, 12, 0], [6, 2, 0000000000000000000000000...\n",
      "extension                                                 [rv_i]\n",
      "Name: 95, dtype: object, instruction                                                 addi\n",
      "bit_ranges     [[14, 12, 0], [6, 2, 0000000000000000000000000...\n",
      "extension                                                 [rv_i]\n",
      "Name: 95, dtype: object, instruction                                                  and\n",
      "bit_ranges     [[31, 25, 0], [14, 12, 111], [6, 2, 0000000000...\n",
      "extension                                                 [rv_i]\n",
      "Name: 110, dtype: object, instruction                                                   sw\n",
      "bit_ranges     [[14, 12, 10], [6, 2, 000000000000000000000000...\n",
      "extension                                                 [rv_i]\n",
      "Name: 94, dtype: object]\n",
      "\n",
      "Required extensions:\n",
      "['I', 'I', 'I', 'I']\n",
      "\n",
      "Compatible profiles sorted by size (smallest first):\n",
      "RVI20                       19\n",
      "RVA20 \\r\\n(64 only) – U     23\n",
      "RVA20 \\r\\n(64 only) – S     37\n",
      "RVA22 \\r\\n(64 only) – U     50\n",
      "RVA23 (64 only) – U         70\n",
      "RVI23 – U                   72\n",
      "RVA22 \\r\\n(64 only) – S     80\n",
      "RVB23 (64 only) – U         83\n",
      "RVA23 (64 only) – S        108\n",
      "RVB23 (64 only) – S        118\n",
      "Name: TOTAL, dtype: int64\n"
     ]
    }
   ],
   "source": [
    "# Load and analyze a test hex file\n",
    "test_file = './data/tests/memory/003-and.hex'\n",
    "with open(test_file, 'r') as file:\n",
    "    hex_content = file.readlines()\n",
    "\n",
    "# Find instructions in the hex file\n",
    "instructions = getInstructsFromHex(hex_content)\n",
    "print(\"Found instructions:\")\n",
    "print(instructions)\n",
    "\n",
    "# Extract required extensions\n",
    "extensions = [instr['extension'][0].split(\"_\", 1)[1].upper() for instr in instructions]\n",
    "print(\"\\nRequired extensions:\")\n",
    "print(extensions)\n",
    "\n",
    "# Find compatible profiles\n",
    "compatible_profiles = fromExtensionsGetProfiles(extensions,perfils)\n",
    "print(\"\\nCompatible profiles sorted by size (smallest first):\")\n",
    "print(perfils[compatible_profiles].loc['TOTAL'].sort_values())"
   ]
  }
 ],
 "metadata": {
  "kernelspec": {
   "display_name": "Python 3",
   "language": "python",
   "name": "python3"
  },
  "language_info": {
   "codemirror_mode": {
    "name": "ipython",
    "version": 3
   },
   "file_extension": ".py",
   "mimetype": "text/x-python",
   "name": "python",
   "nbconvert_exporter": "python",
   "pygments_lexer": "ipython3",
   "version": "3.12.5"
  }
 },
 "nbformat": 4,
 "nbformat_minor": 2
}
