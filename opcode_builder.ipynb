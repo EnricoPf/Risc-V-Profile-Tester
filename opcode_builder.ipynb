{
 "cells": [
  {
   "cell_type": "code",
   "execution_count": 10,
   "metadata": {},
   "outputs": [],
   "source": [
    "import re\n"
   ]
  },
  {
   "cell_type": "code",
   "execution_count": 20,
   "metadata": {},
   "outputs": [],
   "source": [
    "def extract_opcodes(file_path):\n",
    "    \"\"\"\n",
    "    Extracts opcodes, bit ranges, and corresponding instruction names from the given file.\n",
    "    \n",
    "    :param file_path: Path to the input file containing RISC-V opcodes and instructions\n",
    "    :return: A list of tuples with (instruction_name, bit_range, opcode)\n",
    "    \"\"\"\n",
    "    opcode_data = []\n",
    "\n",
    "    # Regular expression to extract instruction names, bit ranges, and opcodes\n",
    "    pattern = re.compile(r'(?P<instruction>\\w+\\.\\w+|\\w+)\\s+.*?(?P<bit_range>\\d+\\.\\.\\d+)\\s*=\\s*(?P<opcode>0x[0-9A-Fa-f]+|\\d+)')\n",
    "\n",
    "    # Open the file and read line by line\n",
    "    with open(file_path, 'r') as file:\n",
    "        for line in file:\n",
    "            # Split the line into instruction name and relevant data\n",
    "            parts = line.split()\n",
    "            if len(parts) < 2:\n",
    "                continue  # Skip lines that don't contain enough data\n",
    "            \n",
    "            # Extract the instruction name (first part)\n",
    "            instruction_name = parts[0]\n",
    "\n",
    "            # Find all matches of bit ranges and opcodes in the line\n",
    "            matches = pattern.findall(line)\n",
    "\n",
    "            for match in matches:\n",
    "                bit_range, opcode = match[1], match[2]\n",
    "                opcode_data.append((instruction_name, bit_range, opcode))\n",
    "\n",
    "    return opcode_data\n",
    "\n"
   ]
  },
  {
   "cell_type": "code",
   "execution_count": 21,
   "metadata": {},
   "outputs": [],
   "source": [
    "\n",
    "def display_opcodes(opcode_data):\n",
    "    \"\"\"\n",
    "    Displays the extracted opcodes in a readable format.\n",
    "    \n",
    "    :param opcode_data: List of tuples with (instruction_name, bit_range, opcode)\n",
    "    \"\"\"\n",
    "    print(f\"{'Instruction':<12} {'Bit Range':<10} {'Opcode':<10}\")\n",
    "    print('-' * 35)\n",
    "    for instruction, bit_range, opcode in opcode_data:\n",
    "        print(f\"{instruction:<12} {bit_range:<10} {opcode:<10}\")\n",
    "\n"
   ]
  },
  {
   "cell_type": "code",
   "execution_count": 23,
   "metadata": {},
   "outputs": [
    {
     "name": "stdout",
     "output_type": "stream",
     "text": [
      "Instruction  Bit Range  Opcode    \n",
      "-----------------------------------\n",
      "lr.w         24..20     0         \n",
      "lr.w         31..29     0         \n",
      "lr.w         14..12     2         \n",
      "lr.w         1..0       3         \n",
      "sc.w         31..29     0         \n",
      "sc.w         14..12     2         \n",
      "sc.w         1..0       3         \n",
      "amoswap.w    31..29     0         \n",
      "amoswap.w    14..12     2         \n",
      "amoswap.w    1..0       3         \n",
      "amoadd.w     31..29     0         \n",
      "amoadd.w     14..12     2         \n",
      "amoadd.w     1..0       3         \n",
      "amoxor.w     31..29     1         \n",
      "amoxor.w     14..12     2         \n",
      "amoxor.w     1..0       3         \n",
      "amoand.w     31..29     3         \n",
      "amoand.w     14..12     2         \n",
      "amoand.w     1..0       3         \n",
      "amoor.w      31..29     2         \n",
      "amoor.w      14..12     2         \n",
      "amoor.w      1..0       3         \n",
      "amomin.w     31..29     4         \n",
      "amomin.w     14..12     2         \n",
      "amomin.w     1..0       3         \n",
      "amomax.w     31..29     5         \n",
      "amomax.w     14..12     2         \n",
      "amomax.w     1..0       3         \n",
      "amominu.w    31..29     6         \n",
      "amominu.w    14..12     2         \n",
      "amominu.w    1..0       3         \n",
      "amomaxu.w    31..29     7         \n",
      "amomaxu.w    14..12     2         \n",
      "amomaxu.w    1..0       3         \n"
     ]
    }
   ],
   "source": [
    "# Path to the input file (replace with your file path)\n",
    "file_path = './opcodes/rv_a'\n",
    "\n",
    "# Extract opcodes and their corresponding instructions and bit ranges\n",
    "opcode_data = extract_opcodes(file_path)\n",
    "\n",
    "# Display the extracted opcodes\n",
    "display_opcodes(opcode_data)"
   ]
  },
  {
   "cell_type": "code",
   "execution_count": null,
   "metadata": {},
   "outputs": [],
   "source": []
  }
 ],
 "metadata": {
  "kernelspec": {
   "display_name": "Python 3",
   "language": "python",
   "name": "python3"
  },
  "language_info": {
   "codemirror_mode": {
    "name": "ipython",
    "version": 3
   },
   "file_extension": ".py",
   "mimetype": "text/x-python",
   "name": "python",
   "nbconvert_exporter": "python",
   "pygments_lexer": "ipython3",
   "version": "3.12.5"
  }
 },
 "nbformat": 4,
 "nbformat_minor": 2
}
