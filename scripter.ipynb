{
 "cells": [
  {
   "cell_type": "code",
   "execution_count": 3,
   "metadata": {},
   "outputs": [],
   "source": [
    "import json"
   ]
  },
  {
   "cell_type": "code",
   "execution_count": 1,
   "metadata": {},
   "outputs": [],
   "source": [
    "file_path = './tests/memory/'"
   ]
  },
  {
   "cell_type": "code",
   "execution_count": 2,
   "metadata": {},
   "outputs": [
    {
     "data": {
      "text/plain": [
       "['00500593\\n', '02b02e23\\n']"
      ]
     },
     "execution_count": 2,
     "metadata": {},
     "output_type": "execute_result"
    }
   ],
   "source": [
    "file_name = '000-addi.hex'\n",
    "\n",
    "# Reading the contents of the file\n",
    "with open(file_path+file_name, 'r') as file:\n",
    "    hex_content = file.readlines()\n",
    "\n",
    "# Display the first few lines of the file to understand its format\n",
    "hex_content[:10]"
   ]
  },
  {
   "cell_type": "code",
   "execution_count": null,
   "metadata": {},
   "outputs": [],
   "source": [
    "# Dictionary for opcode to instruction type mapping (partial list for demo)\n",
    "opcode_map = {\n",
    "    '0110011': 'R-type',  # Arithmetic register-register\n",
    "    '0010011': 'I-type',  # Arithmetic immediate\n",
    "    '0000011': 'I-type',  # Load\n",
    "    '0100011': 'S-type',  # Store\n",
    "    '1100011': 'B-type',  # Branch\n",
    "    '1101111': 'J-type',  # Jump\n",
    "    '0110111': 'U-type',  # LUI\n",
    "    '0010111': 'U-type'   # AUIPC\n",
    "}"
   ]
  },
  {
   "cell_type": "code",
   "execution_count": 14,
   "metadata": {},
   "outputs": [],
   "source": [
    "def hex_to_bin(hex_str):\n",
    "    return bin(int(hex_str, 16))[2:].zfill(32)"
   ]
  },
  {
   "cell_type": "code",
   "execution_count": 15,
   "metadata": {},
   "outputs": [],
   "source": [
    "# Function to decode instructions\n",
    "def decode_instruction(hex_instr):\n",
    "    bin_instr = hex_to_bin(hex_instr) \n",
    "    opcode = bin_instr[-7:]\n",
    "    instr_type = opcode_map.get(opcode, 'Unknown')\n",
    "    return bin_instr, opcode, instr_type"
   ]
  },
  {
   "cell_type": "code",
   "execution_count": 13,
   "metadata": {},
   "outputs": [
    {
     "data": {
      "text/plain": [
       "[('00000000010100000000010110010011', '0010011', 'I-type'),\n",
       " ('00000010101100000010111000100011', '0100011', 'S-type')]"
      ]
     },
     "execution_count": 13,
     "metadata": {},
     "output_type": "execute_result"
    }
   ],
   "source": [
    "# Testing with the first two instructions from the file\n",
    "decoded_instructions = []\n",
    "for hex_instr in hex_content[:2]:\n",
    "    hex_instr = hex_instr.strip()  # Removing newline characters\n",
    "    decoded_instructions.append(decode_instruction(hex_instr))\n",
    "\n",
    "decoded_instructions  # Display the decoded results"
   ]
  },
  {
   "cell_type": "code",
   "execution_count": null,
   "metadata": {},
   "outputs": [],
   "source": []
  }
 ],
 "metadata": {
  "kernelspec": {
   "display_name": "Python 3",
   "language": "python",
   "name": "python3"
  },
  "language_info": {
   "codemirror_mode": {
    "name": "ipython",
    "version": 3
   },
   "file_extension": ".py",
   "mimetype": "text/x-python",
   "name": "python",
   "nbconvert_exporter": "python",
   "pygments_lexer": "ipython3",
   "version": "3.12.5"
  }
 },
 "nbformat": 4,
 "nbformat_minor": 2
}
