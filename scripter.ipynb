{
 "cells": [
  {
   "cell_type": "code",
   "execution_count": 4,
   "metadata": {},
   "outputs": [],
   "source": [
    "import json\n",
    "import pandas as pd"
   ]
  },
  {
   "cell_type": "code",
   "execution_count": 5,
   "metadata": {},
   "outputs": [],
   "source": [
    "json_file = './output_opcodes.json'"
   ]
  },
  {
   "cell_type": "code",
   "execution_count": 9,
   "metadata": {},
   "outputs": [
    {
     "data": {
      "text/html": [
       "<div>\n",
       "<style scoped>\n",
       "    .dataframe tbody tr th:only-of-type {\n",
       "        vertical-align: middle;\n",
       "    }\n",
       "\n",
       "    .dataframe tbody tr th {\n",
       "        vertical-align: top;\n",
       "    }\n",
       "\n",
       "    .dataframe thead th {\n",
       "        text-align: right;\n",
       "    }\n",
       "</style>\n",
       "<table border=\"1\" class=\"dataframe\">\n",
       "  <thead>\n",
       "    <tr style=\"text-align: right;\">\n",
       "      <th></th>\n",
       "      <th>instruction</th>\n",
       "      <th>bit_ranges</th>\n",
       "      <th>extension</th>\n",
       "    </tr>\n",
       "  </thead>\n",
       "  <tbody>\n",
       "    <tr>\n",
       "      <th>0</th>\n",
       "      <td>pseudo_op-slli</td>\n",
       "      <td>[[31..25=0, 14..12=1, 6..2=0x04, 1..0=3]]</td>\n",
       "      <td>[rv32_i]</td>\n",
       "    </tr>\n",
       "    <tr>\n",
       "      <th>1</th>\n",
       "      <td>pseudo_op-srli</td>\n",
       "      <td>[[31..25=0, 14..12=5, 6..2=0x04, 1..0=3]]</td>\n",
       "      <td>[rv32_i]</td>\n",
       "    </tr>\n",
       "    <tr>\n",
       "      <th>2</th>\n",
       "      <td>pseudo_op-srai</td>\n",
       "      <td>[[31..25=32, 14..12=5, 6..2=0x04, 1..0=3]]</td>\n",
       "      <td>[rv32_i]</td>\n",
       "    </tr>\n",
       "    <tr>\n",
       "      <th>3</th>\n",
       "      <td>pseudo_op-slli_rv32</td>\n",
       "      <td>[[31..25=0, 14..12=1, 6..2=0x04, 1..0=3]]</td>\n",
       "      <td>[rv32_i]</td>\n",
       "    </tr>\n",
       "    <tr>\n",
       "      <th>4</th>\n",
       "      <td>pseudo_op-srli_rv32</td>\n",
       "      <td>[[31..25=0, 14..12=5, 6..2=0x04, 1..0=3]]</td>\n",
       "      <td>[rv32_i]</td>\n",
       "    </tr>\n",
       "  </tbody>\n",
       "</table>\n",
       "</div>"
      ],
      "text/plain": [
       "           instruction                                  bit_ranges extension\n",
       "0       pseudo_op-slli   [[31..25=0, 14..12=1, 6..2=0x04, 1..0=3]]  [rv32_i]\n",
       "1       pseudo_op-srli   [[31..25=0, 14..12=5, 6..2=0x04, 1..0=3]]  [rv32_i]\n",
       "2       pseudo_op-srai  [[31..25=32, 14..12=5, 6..2=0x04, 1..0=3]]  [rv32_i]\n",
       "3  pseudo_op-slli_rv32   [[31..25=0, 14..12=1, 6..2=0x04, 1..0=3]]  [rv32_i]\n",
       "4  pseudo_op-srli_rv32   [[31..25=0, 14..12=5, 6..2=0x04, 1..0=3]]  [rv32_i]"
      ]
     },
     "execution_count": 9,
     "metadata": {},
     "output_type": "execute_result"
    }
   ],
   "source": [
    "df = pd.read_json(json_file)\n",
    "df.head()"
   ]
  },
  {
   "cell_type": "code",
   "execution_count": 11,
   "metadata": {},
   "outputs": [
    {
     "data": {
      "text/html": [
       "<div>\n",
       "<style scoped>\n",
       "    .dataframe tbody tr th:only-of-type {\n",
       "        vertical-align: middle;\n",
       "    }\n",
       "\n",
       "    .dataframe tbody tr th {\n",
       "        vertical-align: top;\n",
       "    }\n",
       "\n",
       "    .dataframe thead th {\n",
       "        text-align: right;\n",
       "    }\n",
       "</style>\n",
       "<table border=\"1\" class=\"dataframe\">\n",
       "  <thead>\n",
       "    <tr style=\"text-align: right;\">\n",
       "      <th></th>\n",
       "      <th>instruction</th>\n",
       "      <th>bit_ranges</th>\n",
       "      <th>extension</th>\n",
       "    </tr>\n",
       "  </thead>\n",
       "  <tbody>\n",
       "    <tr>\n",
       "      <th>count</th>\n",
       "      <td>209</td>\n",
       "      <td>209</td>\n",
       "      <td>209</td>\n",
       "    </tr>\n",
       "    <tr>\n",
       "      <th>unique</th>\n",
       "      <td>209</td>\n",
       "      <td>199</td>\n",
       "      <td>37</td>\n",
       "    </tr>\n",
       "    <tr>\n",
       "      <th>top</th>\n",
       "      <td>pseudo_op-slli</td>\n",
       "      <td>[[31..25=0, 14..12=1, 6..2=0x04, 1..0=3]]</td>\n",
       "      <td>[rv_i]</td>\n",
       "    </tr>\n",
       "    <tr>\n",
       "      <th>freq</th>\n",
       "      <td>1</td>\n",
       "      <td>2</td>\n",
       "      <td>62</td>\n",
       "    </tr>\n",
       "  </tbody>\n",
       "</table>\n",
       "</div>"
      ],
      "text/plain": [
       "           instruction                                 bit_ranges extension\n",
       "count              209                                        209       209\n",
       "unique             209                                        199        37\n",
       "top     pseudo_op-slli  [[31..25=0, 14..12=1, 6..2=0x04, 1..0=3]]    [rv_i]\n",
       "freq                 1                                          2        62"
      ]
     },
     "execution_count": 11,
     "metadata": {},
     "output_type": "execute_result"
    }
   ],
   "source": [
    "df.describe()"
   ]
  },
  {
   "cell_type": "code",
   "execution_count": 16,
   "metadata": {},
   "outputs": [],
   "source": [
    "def hex_to_bin(hex_str):\n",
    "    return bin(int(hex_str, 16))[2:].zfill(32)"
   ]
  },
  {
   "cell_type": "code",
   "execution_count": 17,
   "metadata": {},
   "outputs": [],
   "source": [
    "# Function to decode instructions\n",
    "def decode_instruction(hex_instr):\n",
    "    bin_instr = hex_to_bin(hex_instr) \n",
    "    opcode = bin_instr[-7:]\n",
    "    instr_type = df[df['instruction']].get(opcode, 'Unknown')\n",
    "    return bin_instr, opcode, instr_type"
   ]
  },
  {
   "cell_type": "code",
   "execution_count": 19,
   "metadata": {},
   "outputs": [],
   "source": [
    "file_path = './tests/memory/000-addi.hex'\n",
    "with open(file_path, 'r') as file:\n",
    "    hex_content = file.readlines()"
   ]
  },
  {
   "cell_type": "code",
   "execution_count": 22,
   "metadata": {},
   "outputs": [
    {
     "name": "stdout",
     "output_type": "stream",
     "text": [
      "00000000010100000000010110010011\n"
     ]
    },
    {
     "data": {
      "text/plain": [
       "[]"
      ]
     },
     "execution_count": 22,
     "metadata": {},
     "output_type": "execute_result"
    }
   ],
   "source": [
    "# Testing with the first two instructions from the file\n",
    "decoded_instructions = []\n",
    "for hex_instr in hex_content[:1]:\n",
    "    hex_instr = hex_instr.strip()  # Removing newline characters\n",
    "    print(hex_to_bin(hex_instr))\n",
    "    #decoded_instructions.append(decode_instruction(hex_instr))\n",
    "\n",
    "decoded_instructions  # Display the decoded results"
   ]
  },
  {
   "cell_type": "code",
   "execution_count": null,
   "metadata": {},
   "outputs": [],
   "source": []
  }
 ],
 "metadata": {
  "kernelspec": {
   "display_name": "Python 3",
   "language": "python",
   "name": "python3"
  },
  "language_info": {
   "codemirror_mode": {
    "name": "ipython",
    "version": 3
   },
   "file_extension": ".py",
   "mimetype": "text/x-python",
   "name": "python",
   "nbconvert_exporter": "python",
   "pygments_lexer": "ipython3",
   "version": "3.12.5"
  }
 },
 "nbformat": 4,
 "nbformat_minor": 2
}
