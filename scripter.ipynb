{
 "cells": [
  {
   "cell_type": "code",
   "execution_count": 2,
   "metadata": {},
   "outputs": [],
   "source": [
    "import json\n",
    "import pandas as pd\n",
    "import numpy as np\n",
    "import re"
   ]
  },
  {
   "cell_type": "code",
   "execution_count": 3,
   "metadata": {},
   "outputs": [],
   "source": [
    "## Testing with the first two instructions from the file\n",
    "#decoded_instructions = []\n",
    "#for hex_instr in hex_content[:1]:\n",
    "#    for index, line in df_sorted.iterrows():\n",
    "#        #print(line['bit_ranges'])\n",
    "#        #line['bit_ranges']\n",
    "#    hex_instr = hex_instr.strip()  # Removing newline characters\n",
    "#    print(hex_to_bin(hex_instr))\n",
    "#    #decoded_instructions.append(decode_instruction(hex_instr))\n",
    "#\n",
    "#decoded_instructions  # Display the decoded results"
   ]
  },
  {
   "cell_type": "code",
   "execution_count": 4,
   "metadata": {},
   "outputs": [],
   "source": [
    "def hex_to_bin(hex_str):\n",
    "    return (bin(int(hex_str, 16))[2:])\n",
    "\n",
    "def decode_instruction(hex_instr):\n",
    "    bin_instr = hex_to_bin(hex_instr) \n",
    "    opcode = bin_instr[-7:]\n",
    "    instr_type = df[df['instruction']].get(opcode, 'Unknown')\n",
    "    return bin_instr, opcode, instr_type"
   ]
  },
  {
   "cell_type": "code",
   "execution_count": 5,
   "metadata": {},
   "outputs": [],
   "source": [
    "def parse_range(s: str):\n",
    "    # Check if the string is in the 'X..Y=Z' format\n",
    "    if '..' in s:\n",
    "        # Use regex to extract X, Y, and Z\n",
    "        match = re.match(r'(\\d+)\\.\\.(\\d+)=(-?0x[\\da-fA-F]+|-?\\d+)', s)\n",
    "        if match:\n",
    "            X = int(match.group(1))\n",
    "            Y = int(match.group(2))\n",
    "            Z = match.group(3)\n",
    "            # Check if Z is hexadecimal, convert to binary if it is\n",
    "            if Z.startswith('0x') or Z.startswith('-0x'):\n",
    "                Z = hex_to_bin(Z)\n",
    "            else:\n",
    "                Z = bin(int(Z))[2:]  # Convert to binary if not hex\n",
    "            return [X, Y, Z]\n",
    "    else:\n",
    "        # Use regex to extract X and Z in the 'X=Z' format\n",
    "        match = re.match(r'(\\d+)=(-?0x[\\da-fA-F]+|-?\\d+)', s)\n",
    "        if match:\n",
    "            X = int(match.group(1))\n",
    "            Z = match.group(2)\n",
    "            # Check if Z is hexadecimal, convert to binary if it is\n",
    "            if Z.startswith('0x') or Z.startswith('-0x'):\n",
    "                Z = hex_to_bin(Z)\n",
    "            else:\n",
    "                Z = bin(int(Z))[2:]  # Convert to binary if not hex\n",
    "            return [X, Z]"
   ]
  },
  {
   "cell_type": "code",
   "execution_count": 6,
   "metadata": {},
   "outputs": [],
   "source": [
    "json_file = './output_opcodes.json'"
   ]
  },
  {
   "cell_type": "code",
   "execution_count": 7,
   "metadata": {},
   "outputs": [
    {
     "data": {
      "text/html": [
       "<div>\n",
       "<style scoped>\n",
       "    .dataframe tbody tr th:only-of-type {\n",
       "        vertical-align: middle;\n",
       "    }\n",
       "\n",
       "    .dataframe tbody tr th {\n",
       "        vertical-align: top;\n",
       "    }\n",
       "\n",
       "    .dataframe thead th {\n",
       "        text-align: right;\n",
       "    }\n",
       "</style>\n",
       "<table border=\"1\" class=\"dataframe\">\n",
       "  <thead>\n",
       "    <tr style=\"text-align: right;\">\n",
       "      <th></th>\n",
       "      <th>instruction</th>\n",
       "      <th>bit_ranges</th>\n",
       "      <th>extension</th>\n",
       "    </tr>\n",
       "  </thead>\n",
       "  <tbody>\n",
       "    <tr>\n",
       "      <th>0</th>\n",
       "      <td>pseudo_op-slli</td>\n",
       "      <td>[[31..25=0, 14..12=1, 6..2=0x04, 1..0=3]]</td>\n",
       "      <td>[rv32_i]</td>\n",
       "    </tr>\n",
       "    <tr>\n",
       "      <th>1</th>\n",
       "      <td>pseudo_op-srli</td>\n",
       "      <td>[[31..25=0, 14..12=5, 6..2=0x04, 1..0=3]]</td>\n",
       "      <td>[rv32_i]</td>\n",
       "    </tr>\n",
       "    <tr>\n",
       "      <th>2</th>\n",
       "      <td>pseudo_op-srai</td>\n",
       "      <td>[[31..25=32, 14..12=5, 6..2=0x04, 1..0=3]]</td>\n",
       "      <td>[rv32_i]</td>\n",
       "    </tr>\n",
       "    <tr>\n",
       "      <th>3</th>\n",
       "      <td>pseudo_op-slli_rv32</td>\n",
       "      <td>[[31..25=0, 14..12=1, 6..2=0x04, 1..0=3]]</td>\n",
       "      <td>[rv32_i]</td>\n",
       "    </tr>\n",
       "    <tr>\n",
       "      <th>4</th>\n",
       "      <td>pseudo_op-srli_rv32</td>\n",
       "      <td>[[31..25=0, 14..12=5, 6..2=0x04, 1..0=3]]</td>\n",
       "      <td>[rv32_i]</td>\n",
       "    </tr>\n",
       "  </tbody>\n",
       "</table>\n",
       "</div>"
      ],
      "text/plain": [
       "           instruction                                  bit_ranges extension\n",
       "0       pseudo_op-slli   [[31..25=0, 14..12=1, 6..2=0x04, 1..0=3]]  [rv32_i]\n",
       "1       pseudo_op-srli   [[31..25=0, 14..12=5, 6..2=0x04, 1..0=3]]  [rv32_i]\n",
       "2       pseudo_op-srai  [[31..25=32, 14..12=5, 6..2=0x04, 1..0=3]]  [rv32_i]\n",
       "3  pseudo_op-slli_rv32   [[31..25=0, 14..12=1, 6..2=0x04, 1..0=3]]  [rv32_i]\n",
       "4  pseudo_op-srli_rv32   [[31..25=0, 14..12=5, 6..2=0x04, 1..0=3]]  [rv32_i]"
      ]
     },
     "execution_count": 7,
     "metadata": {},
     "output_type": "execute_result"
    }
   ],
   "source": [
    "df = pd.read_json(json_file)\n",
    "df.head()"
   ]
  },
  {
   "cell_type": "code",
   "execution_count": 8,
   "metadata": {},
   "outputs": [],
   "source": [
    "df['bit_ranges'] = df['bit_ranges'].apply(lambda x: np.array(x).ravel())"
   ]
  },
  {
   "cell_type": "code",
   "execution_count": 9,
   "metadata": {},
   "outputs": [
    {
     "data": {
      "text/html": [
       "<div>\n",
       "<style scoped>\n",
       "    .dataframe tbody tr th:only-of-type {\n",
       "        vertical-align: middle;\n",
       "    }\n",
       "\n",
       "    .dataframe tbody tr th {\n",
       "        vertical-align: top;\n",
       "    }\n",
       "\n",
       "    .dataframe thead th {\n",
       "        text-align: right;\n",
       "    }\n",
       "</style>\n",
       "<table border=\"1\" class=\"dataframe\">\n",
       "  <thead>\n",
       "    <tr style=\"text-align: right;\">\n",
       "      <th></th>\n",
       "      <th>instruction</th>\n",
       "      <th>bit_ranges</th>\n",
       "      <th>extension</th>\n",
       "    </tr>\n",
       "  </thead>\n",
       "  <tbody>\n",
       "    <tr>\n",
       "      <th>95</th>\n",
       "      <td>addi</td>\n",
       "      <td>[14..12=0, 6..2=0x04, 1..0=3]</td>\n",
       "      <td>[rv_i]</td>\n",
       "    </tr>\n",
       "  </tbody>\n",
       "</table>\n",
       "</div>"
      ],
      "text/plain": [
       "   instruction                     bit_ranges extension\n",
       "95        addi  [14..12=0, 6..2=0x04, 1..0=3]    [rv_i]"
      ]
     },
     "execution_count": 9,
     "metadata": {},
     "output_type": "execute_result"
    }
   ],
   "source": [
    "df[df['instruction'] == 'addi']"
   ]
  },
  {
   "cell_type": "code",
   "execution_count": 10,
   "metadata": {},
   "outputs": [],
   "source": [
    "df_sorted = df.sort_values(by='bit_ranges',key = lambda x: x.apply(len), ascending= False)"
   ]
  },
  {
   "cell_type": "code",
   "execution_count": 11,
   "metadata": {},
   "outputs": [
    {
     "data": {
      "text/html": [
       "<div>\n",
       "<style scoped>\n",
       "    .dataframe tbody tr th:only-of-type {\n",
       "        vertical-align: middle;\n",
       "    }\n",
       "\n",
       "    .dataframe tbody tr th {\n",
       "        vertical-align: top;\n",
       "    }\n",
       "\n",
       "    .dataframe thead th {\n",
       "        text-align: right;\n",
       "    }\n",
       "</style>\n",
       "<table border=\"1\" class=\"dataframe\">\n",
       "  <thead>\n",
       "    <tr style=\"text-align: right;\">\n",
       "      <th></th>\n",
       "      <th>instruction</th>\n",
       "      <th>bit_ranges</th>\n",
       "      <th>extension</th>\n",
       "    </tr>\n",
       "  </thead>\n",
       "  <tbody>\n",
       "    <tr>\n",
       "      <th>7</th>\n",
       "      <td>pseudo_op-unzip</td>\n",
       "      <td>[[31, 25, 100], [24, 20, 1111], [14, 12, 101],...</td>\n",
       "      <td>[rv32_zbkb, rv32_zk, rv32_zkn, rv32_zks]</td>\n",
       "    </tr>\n",
       "    <tr>\n",
       "      <th>6</th>\n",
       "      <td>pseudo_op-zip</td>\n",
       "      <td>[[31, 25, 100], [24, 20, 1111], [14, 12, 1], [...</td>\n",
       "      <td>[rv32_zbkb, rv32_zk, rv32_zkn, rv32_zks]</td>\n",
       "    </tr>\n",
       "    <tr>\n",
       "      <th>176</th>\n",
       "      <td>pseudo_op-brev8</td>\n",
       "      <td>[[31, 20, 11010000111], [14, 12, 101], [6, 2, ...</td>\n",
       "      <td>[rv_zbkb, rv_zk, rv_zkn, rv_zks]</td>\n",
       "    </tr>\n",
       "    <tr>\n",
       "      <th>48</th>\n",
       "      <td>pseudo_op-rev8</td>\n",
       "      <td>[[31, 20, 11010111000], [14, 12, 101], [6, 0, ...</td>\n",
       "      <td>[rv64_zbb, rv64_zbkb, rv64_zk, rv64_zkn, rv64_...</td>\n",
       "    </tr>\n",
       "    <tr>\n",
       "      <th>112</th>\n",
       "      <td>pseudo_op-pause</td>\n",
       "      <td>[[27, 24, 1], [23, 20, 0], [19, 15, 0], [14, 1...</td>\n",
       "      <td>[rv_i]</td>\n",
       "    </tr>\n",
       "  </tbody>\n",
       "</table>\n",
       "</div>"
      ],
      "text/plain": [
       "         instruction                                         bit_ranges  \\\n",
       "7    pseudo_op-unzip  [[31, 25, 100], [24, 20, 1111], [14, 12, 101],...   \n",
       "6      pseudo_op-zip  [[31, 25, 100], [24, 20, 1111], [14, 12, 1], [...   \n",
       "176  pseudo_op-brev8  [[31, 20, 11010000111], [14, 12, 101], [6, 2, ...   \n",
       "48    pseudo_op-rev8  [[31, 20, 11010111000], [14, 12, 101], [6, 0, ...   \n",
       "112  pseudo_op-pause  [[27, 24, 1], [23, 20, 0], [19, 15, 0], [14, 1...   \n",
       "\n",
       "                                             extension  \n",
       "7             [rv32_zbkb, rv32_zk, rv32_zkn, rv32_zks]  \n",
       "6             [rv32_zbkb, rv32_zk, rv32_zkn, rv32_zks]  \n",
       "176                   [rv_zbkb, rv_zk, rv_zkn, rv_zks]  \n",
       "48   [rv64_zbb, rv64_zbkb, rv64_zk, rv64_zkn, rv64_...  \n",
       "112                                             [rv_i]  "
      ]
     },
     "execution_count": 11,
     "metadata": {},
     "output_type": "execute_result"
    }
   ],
   "source": [
    "df_sorted['bit_ranges'] = df_sorted['bit_ranges'].apply(lambda x: [parse_range(y) for y in x])\n",
    "df_sorted.head(5)"
   ]
  },
  {
   "cell_type": "code",
   "execution_count": 12,
   "metadata": {},
   "outputs": [
    {
     "data": {
      "text/html": [
       "<div>\n",
       "<style scoped>\n",
       "    .dataframe tbody tr th:only-of-type {\n",
       "        vertical-align: middle;\n",
       "    }\n",
       "\n",
       "    .dataframe tbody tr th {\n",
       "        vertical-align: top;\n",
       "    }\n",
       "\n",
       "    .dataframe thead th {\n",
       "        text-align: right;\n",
       "    }\n",
       "</style>\n",
       "<table border=\"1\" class=\"dataframe\">\n",
       "  <thead>\n",
       "    <tr style=\"text-align: right;\">\n",
       "      <th></th>\n",
       "      <th>instruction</th>\n",
       "      <th>bit_ranges</th>\n",
       "      <th>extension</th>\n",
       "    </tr>\n",
       "  </thead>\n",
       "  <tbody>\n",
       "    <tr>\n",
       "      <th>95</th>\n",
       "      <td>addi</td>\n",
       "      <td>[[14, 12, 0], [6, 2, 100], [1, 0, 11]]</td>\n",
       "      <td>[rv_i]</td>\n",
       "    </tr>\n",
       "  </tbody>\n",
       "</table>\n",
       "</div>"
      ],
      "text/plain": [
       "   instruction                              bit_ranges extension\n",
       "95        addi  [[14, 12, 0], [6, 2, 100], [1, 0, 11]]    [rv_i]"
      ]
     },
     "execution_count": 12,
     "metadata": {},
     "output_type": "execute_result"
    }
   ],
   "source": [
    "df_sorted[df_sorted['instruction'] == 'addi']"
   ]
  },
  {
   "cell_type": "code",
   "execution_count": 13,
   "metadata": {},
   "outputs": [],
   "source": [
    "file_path = './tests/memory/000-addi.hex'\n",
    "with open(file_path, 'r') as file:\n",
    "    hex_content = file.readlines()"
   ]
  },
  {
   "cell_type": "code",
   "execution_count": 14,
   "metadata": {},
   "outputs": [
    {
     "data": {
      "text/plain": [
       "[[1, 0, '11']]"
      ]
     },
     "execution_count": 14,
     "metadata": {},
     "output_type": "execute_result"
    }
   ],
   "source": [
    "df_sorted[df_sorted['instruction'] == 'addi']['bit_ranges'].to_list()[0][-1:]"
   ]
  },
  {
   "cell_type": "code",
   "execution_count": 15,
   "metadata": {},
   "outputs": [
    {
     "data": {
      "text/plain": [
       "'00500593'"
      ]
     },
     "execution_count": 15,
     "metadata": {},
     "output_type": "execute_result"
    }
   ],
   "source": [
    "hex_content[0].strip()"
   ]
  },
  {
   "cell_type": "code",
   "execution_count": 17,
   "metadata": {},
   "outputs": [
    {
     "data": {
      "text/html": [
       "<div>\n",
       "<style scoped>\n",
       "    .dataframe tbody tr th:only-of-type {\n",
       "        vertical-align: middle;\n",
       "    }\n",
       "\n",
       "    .dataframe tbody tr th {\n",
       "        vertical-align: top;\n",
       "    }\n",
       "\n",
       "    .dataframe thead th {\n",
       "        text-align: right;\n",
       "    }\n",
       "</style>\n",
       "<table border=\"1\" class=\"dataframe\">\n",
       "  <thead>\n",
       "    <tr style=\"text-align: right;\">\n",
       "      <th></th>\n",
       "      <th>instruction</th>\n",
       "      <th>bit_ranges</th>\n",
       "      <th>extension</th>\n",
       "    </tr>\n",
       "  </thead>\n",
       "  <tbody>\n",
       "    <tr>\n",
       "      <th>94</th>\n",
       "      <td>sw</td>\n",
       "      <td>[[14, 12, 10], [6, 2, 1000], [1, 0, 11]]</td>\n",
       "      <td>[rv_i]</td>\n",
       "    </tr>\n",
       "  </tbody>\n",
       "</table>\n",
       "</div>"
      ],
      "text/plain": [
       "   instruction                                bit_ranges extension\n",
       "94          sw  [[14, 12, 10], [6, 2, 1000], [1, 0, 11]]    [rv_i]"
      ]
     },
     "execution_count": 17,
     "metadata": {},
     "output_type": "execute_result"
    }
   ],
   "source": [
    "df_sorted[df_sorted['instruction'] == 'sw']"
   ]
  },
  {
   "cell_type": "code",
   "execution_count": 18,
   "metadata": {},
   "outputs": [
    {
     "data": {
      "text/html": [
       "<div>\n",
       "<style scoped>\n",
       "    .dataframe tbody tr th:only-of-type {\n",
       "        vertical-align: middle;\n",
       "    }\n",
       "\n",
       "    .dataframe tbody tr th {\n",
       "        vertical-align: top;\n",
       "    }\n",
       "\n",
       "    .dataframe thead th {\n",
       "        text-align: right;\n",
       "    }\n",
       "</style>\n",
       "<table border=\"1\" class=\"dataframe\">\n",
       "  <thead>\n",
       "    <tr style=\"text-align: right;\">\n",
       "      <th></th>\n",
       "      <th>instruction</th>\n",
       "      <th>bit_ranges</th>\n",
       "      <th>extension</th>\n",
       "    </tr>\n",
       "  </thead>\n",
       "  <tbody>\n",
       "    <tr>\n",
       "      <th>7</th>\n",
       "      <td>pseudo_op-unzip</td>\n",
       "      <td>[[31, 25, 100], [24, 20, 1111], [14, 12, 101],...</td>\n",
       "      <td>[rv32_zbkb, rv32_zk, rv32_zkn, rv32_zks]</td>\n",
       "    </tr>\n",
       "    <tr>\n",
       "      <th>6</th>\n",
       "      <td>pseudo_op-zip</td>\n",
       "      <td>[[31, 25, 100], [24, 20, 1111], [14, 12, 1], [...</td>\n",
       "      <td>[rv32_zbkb, rv32_zk, rv32_zkn, rv32_zks]</td>\n",
       "    </tr>\n",
       "    <tr>\n",
       "      <th>176</th>\n",
       "      <td>pseudo_op-brev8</td>\n",
       "      <td>[[31, 20, 11010000111], [14, 12, 101], [6, 2, ...</td>\n",
       "      <td>[rv_zbkb, rv_zk, rv_zkn, rv_zks]</td>\n",
       "    </tr>\n",
       "    <tr>\n",
       "      <th>48</th>\n",
       "      <td>pseudo_op-rev8</td>\n",
       "      <td>[[31, 20, 11010111000], [14, 12, 101], [6, 0, ...</td>\n",
       "      <td>[rv64_zbb, rv64_zbkb, rv64_zk, rv64_zkn, rv64_...</td>\n",
       "    </tr>\n",
       "    <tr>\n",
       "      <th>112</th>\n",
       "      <td>pseudo_op-pause</td>\n",
       "      <td>[[27, 24, 1], [23, 20, 0], [19, 15, 0], [14, 1...</td>\n",
       "      <td>[rv_i]</td>\n",
       "    </tr>\n",
       "  </tbody>\n",
       "</table>\n",
       "</div>"
      ],
      "text/plain": [
       "         instruction                                         bit_ranges  \\\n",
       "7    pseudo_op-unzip  [[31, 25, 100], [24, 20, 1111], [14, 12, 101],...   \n",
       "6      pseudo_op-zip  [[31, 25, 100], [24, 20, 1111], [14, 12, 1], [...   \n",
       "176  pseudo_op-brev8  [[31, 20, 11010000111], [14, 12, 101], [6, 2, ...   \n",
       "48    pseudo_op-rev8  [[31, 20, 11010111000], [14, 12, 101], [6, 0, ...   \n",
       "112  pseudo_op-pause  [[27, 24, 1], [23, 20, 0], [19, 15, 0], [14, 1...   \n",
       "\n",
       "                                             extension  \n",
       "7             [rv32_zbkb, rv32_zk, rv32_zkn, rv32_zks]  \n",
       "6             [rv32_zbkb, rv32_zk, rv32_zkn, rv32_zks]  \n",
       "176                   [rv_zbkb, rv_zk, rv_zkn, rv_zks]  \n",
       "48   [rv64_zbb, rv64_zbkb, rv64_zk, rv64_zkn, rv64_...  \n",
       "112                                             [rv_i]  "
      ]
     },
     "execution_count": 18,
     "metadata": {},
     "output_type": "execute_result"
    }
   ],
   "source": [
    "df_sorted.head()"
   ]
  },
  {
   "cell_type": "code",
   "execution_count": 19,
   "metadata": {},
   "outputs": [
    {
     "name": "stdout",
     "output_type": "stream",
     "text": [
      "10100000000010110010011\n"
     ]
    },
    {
     "data": {
      "text/plain": [
       "'11001001101000000000101'"
      ]
     },
     "execution_count": 19,
     "metadata": {},
     "output_type": "execute_result"
    }
   ],
   "source": [
    "line = hex_content[0].strip()\n",
    "print(hex_to_bin(line))\n",
    "hex_to_bin(line)[::-1]"
   ]
  },
  {
   "cell_type": "code",
   "execution_count": 21,
   "metadata": {},
   "outputs": [
    {
     "data": {
      "text/plain": [
       "94    [[14, 12, 10], [6, 2, 1000], [1, 0, 11]]\n",
       "Name: bit_ranges, dtype: object"
      ]
     },
     "execution_count": 21,
     "metadata": {},
     "output_type": "execute_result"
    }
   ],
   "source": [
    "df_sorted[df_sorted['instruction'] == 'sw']['bit_ranges']"
   ]
  },
  {
   "cell_type": "code",
   "execution_count": 25,
   "metadata": {},
   "outputs": [
    {
     "name": "stdout",
     "output_type": "stream",
     "text": [
      "11001001101000000000101\n",
      "12 14: 0\n",
      "000\n",
      "YES\n",
      "2 6: 100\n",
      "00100\n",
      "YES\n",
      "0 1: 11\n",
      "11\n",
      "YES\n"
     ]
    }
   ],
   "source": [
    "line = hex_content[0].strip()\n",
    "line = hex_to_bin(line)\n",
    "line = line[::-1]\n",
    "print(line)\n",
    "for rg in df_sorted[df_sorted['instruction'] == 'addi']['bit_ranges'].to_list()[0]:\n",
    "    if len(rg) == 3:\n",
    "        end = rg[0]\n",
    "        start = rg[1]\n",
    "        value = rg[2]\n",
    "        print(f\"{start} {end}: {value}\")        \n",
    "        inter = line[start:end+1]\n",
    "        print(inter)\n",
    "        if int(inter[::-1],2) == int(value,2):\n",
    "            print(\"YES\")\n",
    "        \n",
    "    else:\n",
    "        position = rg[0]\n",
    "        value = rg[1]\n",
    "        print('no')"
   ]
  },
  {
   "cell_type": "code",
   "execution_count": null,
   "metadata": {},
   "outputs": [],
   "source": []
  }
 ],
 "metadata": {
  "kernelspec": {
   "display_name": "Python 3",
   "language": "python",
   "name": "python3"
  },
  "language_info": {
   "codemirror_mode": {
    "name": "ipython",
    "version": 3
   },
   "file_extension": ".py",
   "mimetype": "text/x-python",
   "name": "python",
   "nbconvert_exporter": "python",
   "pygments_lexer": "ipython3",
   "version": "3.12.5"
  }
 },
 "nbformat": 4,
 "nbformat_minor": 2
}
