{
 "cells": [
  {
   "cell_type": "markdown",
   "metadata": {},
   "source": [
    "# RISC-V Opcode Dictionary Generator\n",
    "\n",
    "This notebook creates a structured dictionary of RISC-V instructions by:\n",
    "1. Reading instruction definitions from opcode files\n",
    "2. Extracting instruction names, bit patterns, and extensions\n",
    "3. Creating a unified JSON format for easy lookup\n",
    "\n",
    "The output is used to analyze RISC-V binaries and determine instruction compatibility."
   ]
  },
  {
   "cell_type": "code",
   "execution_count": null,
   "metadata": {},
   "outputs": [],
   "source": [
    "import re           # For pattern matching\n",
    "import os           # For file operations\n",
    "import json         # For JSON output\n",
    "import pandas as pd # For data manipulation\n",
    "from collections import defaultdict"
   ]
  },
  {
   "cell_type": "markdown",
   "metadata": {},
   "source": [
    "## 1. Pattern Definitions"
   ]
  },
  {
   "cell_type": "code",
   "execution_count": null,
   "metadata": {},
   "outputs": [],
   "source": [
    "# Regular expressions for parsing instruction definitions\n",
    "INSTRUCTION_PATTERN = r'(?P<instruction>\\w+)\\s+.*?(?P<bit_ranges>(\\d+\\.\\.\\d+|\\d+)\\s*=\\s*(0x[0-9A-Fa-f]+|0b[01]+|\\d+)(\\s+(\\d+\\.\\.\\d+|\\d+)\\s*=\\s*(0x[0-9A-Fa-f]+|0b[01]+|\\d+))*)'\n",
    "PSEUDO_OP_PATTERN = r'\\$pseudo_op\\s+(?P<extension>[\\w.]+)::(?P<base_instruction>\\w+)\\s+(?P<instruction>\\w+)\\s+(?P<args>.*?)\\s+(?P<bit_ranges>((\\d+\\.\\.\\d+|\\d+)\\s*=\\s*(0x[0-9A-Fa-f]+|0b[01]+|\\d+)\\s*)+)'"
   ]
  },
  {
   "cell_type": "markdown",
   "metadata": {},
   "source": [
    "## 2. Core Functions"
   ]
  },
  {
   "cell_type": "code",
   "execution_count": null,
   "metadata": {},
   "outputs": [],
   "source": [
    "def process_bit_ranges(bit_ranges_value: str) -> list:\n",
    "    \"\"\"Process bit range expressions into a structured format.\n",
    "    \n",
    "    Args:\n",
    "        bit_ranges_value (str): String containing bit range-value pairs\n",
    "        \n",
    "    Returns:\n",
    "        list: List of formatted bit range-value pairs\n",
    "    \"\"\"\n",
    "    return bit_ranges_value.strip().split()\n",
    "\n",
    "def extract_opcodes(file_path: str) -> list:\n",
    "    \"\"\"Extract instruction definitions from a RISC-V opcode file.\n",
    "    \n",
    "    Args:\n",
    "        file_path (str): Path to the opcode definition file\n",
    "        \n",
    "    Returns:\n",
    "        list: List of tuples containing (instruction_name, bit_ranges, extension)\n",
    "    \"\"\"\n",
    "    opcode_data = []\n",
    "    extension = os.path.basename(file_path)  # Get filename as extension\n",
    "    \n",
    "    # Compile regex patterns\n",
    "    instruction_regex = re.compile(INSTRUCTION_PATTERN)\n",
    "    pseudo_op_regex = re.compile(PSEUDO_OP_PATTERN)\n",
    "    \n",
    "    with open(file_path, 'r') as file:\n",
    "        for line in file:\n",
    "            line = line.strip()\n",
    "            \n",
    "            # Skip comments and empty lines\n",
    "            if not line or line.startswith('#'):\n",
    "                continue\n",
    "                \n",
    "            # Handle pseudo-ops\n",
    "            if line.startswith('$pseudo_op'):\n",
    "                match = pseudo_op_regex.match(line)\n",
    "                if match:\n",
    "                    instruction = f\"pseudo_op-{match.group('instruction')}\"\n",
    "                    bit_ranges = process_bit_ranges(match.group('bit_ranges'))\n",
    "                    opcode_data.append((instruction, bit_ranges, extension))\n",
    "                continue\n",
    "            \n",
    "            # Handle regular instructions\n",
    "            match = instruction_regex.match(line)\n",
    "            if match:\n",
    "                instruction = match.group('instruction')\n",
    "                bit_ranges = process_bit_ranges(match.group('bit_ranges'))\n",
    "                opcode_data.append((instruction, bit_ranges, extension))\n",
    "                \n",
    "    return opcode_data\n",
    "\n",
    "def save_to_json(opcode_data: list, json_file_path: str) -> None:\n",
    "    \"\"\"Save extracted opcode data to a JSON file with unified instruction format.\n",
    "    \n",
    "    Args:\n",
    "        opcode_data (list): List of tuples containing instruction information\n",
    "        json_file_path (str): Output JSON file path\n",
    "    \"\"\"\n",
    "    # Group data by instruction\n",
    "    unified_data = defaultdict(lambda: {\"bit_ranges\": [], \"extension\": []})\n",
    "    \n",
    "    for instruction, bit_ranges, extension in opcode_data:\n",
    "        # Add unique bit ranges\n",
    "        for bit_range in bit_ranges:\n",
    "            if bit_range not in unified_data[instruction][\"bit_ranges\"]:\n",
    "                unified_data[instruction][\"bit_ranges\"].append(bit_range)\n",
    "        \n",
    "        # Add extension if not already present\n",
    "        if extension not in unified_data[instruction][\"extension\"]:\n",
    "            unified_data[instruction][\"extension\"].append(extension)\n",
    "    \n",
    "    # Convert to list format for JSON\n",
    "    formatted_data = [\n",
    "        {\n",
    "            \"instruction\": instruction,\n",
    "            \"bit_ranges\": data[\"bit_ranges\"],\n",
    "            \"extension\": data[\"extension\"]\n",
    "        }\n",
    "        for instruction, data in unified_data.items()\n",
    "    ]\n",
    "    \n",
    "    # Save to JSON with pretty printing\n",
    "    with open(json_file_path, 'w') as json_file:\n",
    "        json.dump(formatted_data, json_file, indent=2)"
   ]
  },
  {
   "cell_type": "markdown",
   "metadata": {},
   "source": [
    "## 3. Process All Files"
   ]
  },
  {
   "cell_type": "code",
   "execution_count": null,
   "metadata": {},
   "outputs": [],
   "source": [
    "# Process all opcode files\n",
    "folder_path = './data/opcodes/'\n",
    "all_opcode_data = []\n",
    "\n",
    "# Process each file in the folder\n",
    "for filename in os.listdir(folder_path):\n",
    "    file_path = os.path.join(folder_path, filename)\n",
    "    if os.path.isfile(file_path):\n",
    "        print(f\"Processing {filename}...\")\n",
    "        opcode_data = extract_opcodes(file_path)\n",
    "        all_opcode_data.extend(opcode_data)\n",
    "\n",
    "print(f\"\\nTotal instructions found: {len(all_opcode_data)}\")\n",
    "\n",
    "# Create DataFrame for analysis\n",
    "df = pd.DataFrame(all_opcode_data, columns=['instruction', 'bit_ranges', 'extension'])\n",
    "\n",
    "# Save to JSON\n",
    "json_file_path = './data/output_opcodes.json'\n",
    "save_to_json(all_opcode_data, json_file_path)\n",
    "print(f\"\\nOpcode data saved to {json_file_path}\")"
   ]
  },
  {
   "cell_type": "markdown",
   "metadata": {},
   "source": [
    "## 4. Data Analysis"
   ]
  },
  {
   "cell_type": "code",
   "execution_count": null,
   "metadata": {},
   "outputs": [],
   "source": [
    "# Display extension distribution\n",
    "print(\"Extension distribution:\")\n",
    "print(df['extension'].value_counts())\n",
    "\n",
    "print(f\"\\nUnique instructions: {len(df['instruction'].unique())}\")\n",
    "\n",
    "# Check for duplicates\n",
    "duplicates = df[df.duplicated(['instruction', 'bit_ranges'], keep=False)]\n",
    "if not duplicates.empty:\n",
    "    print(\"\\nWarning: Found duplicate instruction definitions:\")\n",
    "    print(duplicates)\n",
    "\n",
    "# Sample of processed data\n",
    "print(\"\\nSample of processed instructions:\")\n",
    "print(df.head())"
   ]
  }
 ],
 "metadata": {
  "kernelspec": {
   "display_name": "Python 3",
   "language": "python",
   "name": "python3"
  },
  "language_info": {
   "codemirror_mode": {
    "name": "ipython",
    "version": 3
   },
   "file_extension": ".py",
   "mimetype": "text/x-python",
   "name": "python",
   "nbconvert_exporter": "python",
   "pygments_lexer": "ipython3",
   "version": "3.12.5"
  }
 },
 "nbformat": 4,
 "nbformat_minor": 2
}
